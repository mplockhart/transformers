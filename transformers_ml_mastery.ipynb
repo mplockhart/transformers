{
 "cells": [
  {
   "cell_type": "code",
   "execution_count": 1,
   "metadata": {},
   "outputs": [
    {
     "name": "stdout",
     "output_type": "stream",
     "text": [
      "/bin/bash: /home/mplockhart/miniconda3/envs/transformer/lib/libtinfo.so.6: no version information available (required by /bin/bash)\n",
      "Note: you may need to restart the kernel to use updated packages.\n"
     ]
    }
   ],
   "source": [
    "%pip freeze > requirements.txt"
   ]
  },
  {
   "attachments": {},
   "cell_type": "markdown",
   "metadata": {},
   "source": [
    "# Building a transformer model\n",
    "All of the information can be found here:  \n",
    "https://machinelearningmastery.com/wp-content/uploads/2023/01/building_transformer_models_with_attention_mini_course.pdf?__s=0r0s1e8vtea8nzhf01f7&utm_source=drip&utm_medium=email&utm_campaign=AFML+Mini-Course&utm_content=Building+Transformer+Models+with+Attention+%28crash-course%29"
   ]
  },
  {
   "attachments": {},
   "cell_type": "markdown",
   "metadata": {},
   "source": [
    "# Modules\n",
    "All modules will be loaded here with the lesson numbers for additional ones.\n",
    "\n",
    "## Installing more complicated modules\n",
    "### TensorFlow\n",
    "This was installed using the `pip` instuctions here https://www.tensorflow.org/install/pip#windows-wsl2"
   ]
  },
  {
   "attachments": {},
   "cell_type": "markdown",
   "metadata": {},
   "source": [
    "## Lesson 1\n",
    "As you are building a neural machine translator, you need data for training and testing. Let's build a sentence-based English-to-French translator. There are many resources on the Internet. An example would be the user-contributed data for the flash card app Anki. You can download some data files at https://ankiweb.net/shared/decks/french. The data file would be a ZIP file containing a SQLite database file, from which you can extract the English-French sentence pairs.\n",
    "\n",
    "However, you may find it more convenient to have a text file version, which you can find it at https://www.manythings.org/anki/. Google hosts a mirror of this file as well, which we will be using. The code below will download the compressed data file and extract it:"
   ]
  },
  {
   "cell_type": "code",
   "execution_count": 55,
   "metadata": {},
   "outputs": [],
   "source": [
    "# day 1\n",
    "import pathlib\n",
    "import tensorflow as tf\n",
    "\n",
    "# day 2\n",
    "import pickle\n",
    "import random\n",
    "import re\n",
    "import unicodedata\n",
    "import seaborn as sns\n",
    "import matplotlib.pyplot as plt\n",
    "\n",
    "# day 3\n",
    "from tensorflow.keras.layers import TextVectorization\n"
   ]
  },
  {
   "cell_type": "code",
   "execution_count": 3,
   "metadata": {},
   "outputs": [
    {
     "name": "stdout",
     "output_type": "stream",
     "text": [
      "/home/mplockhart/.keras/datasets/fra.txt\n"
     ]
    }
   ],
   "source": [
    "# download dataset provided by Anki: https://www.manythings.org/anki/\n",
    "text_file = tf.keras.utils.get_file(\n",
    "    fname=\"fra-eng.zip\",\n",
    "    origin=\"http://storage.googleapis.com/download.tensorflow.org/data/fra-eng.zip\",\n",
    "    extract=True,\n",
    ")\n",
    "# show where the file is located now\n",
    "text_file = pathlib.Path(text_file).parent / \"fra.txt\"\n",
    "print(text_file)"
   ]
  },
  {
   "attachments": {},
   "cell_type": "markdown",
   "metadata": {},
   "source": [
    "### Your Task\n",
    "Try to run the above code and open the file extracted. You should verify that the format of each line is like the above. In the next lesson, you will process this file and prepare the dataset suitable for training and testing.\n",
    "\n",
    "The data file will be a plaintext file named fra.txt. Its format would be lines of:\n",
    "\n",
    "`<english sentence><tab character><french sentence>`"
   ]
  },
  {
   "cell_type": "code",
   "execution_count": 4,
   "metadata": {},
   "outputs": [],
   "source": [
    "# exploring the file\n",
    "with open(text_file, 'r') as file:\n",
    "    text_pairs = file.readlines()"
   ]
  },
  {
   "cell_type": "code",
   "execution_count": 5,
   "metadata": {},
   "outputs": [
    {
     "name": "stdout",
     "output_type": "stream",
     "text": [
      "The length of the file is: 167130.\n",
      "The file looks correctly formatted.\n"
     ]
    }
   ],
   "source": [
    "# print the main details\n",
    "print(f\"The length of the file is: {len(text_pairs)}.\")\n",
    "\n",
    "# make sure the lines are in the format \"words \\t words \\n\"\n",
    "# List comprehension to check if the split at '\\t' gives us an output of 2\n",
    "file_check = [line for line in text_pairs if len(line.split('\\t')) != 2]\n",
    "if len(file_check) != 0:\n",
    "    print(\"There is an issue. Here are the problems:\")\n",
    "    print(f\"{file_check}\")\n",
    "else:\n",
    "    print(\"The file looks correctly formatted.\")"
   ]
  },
  {
   "attachments": {},
   "cell_type": "markdown",
   "metadata": {},
   "source": [
    "# Lesson 2\n",
    "Just like all NLP tasks, you need to normalize the text before you use it. French letters\n",
    "have accents which would be represented as Unicode characters, but such representation is\n",
    "not unique in Unicode. Therefore, you will convert the string into NFKC (compatibility and\n",
    "composition normal form).  \n",
    "\n",
    "Next, you will tokenize the sentences. Each word should be a separate token as well as\n",
    "each punctuation mark. However, the punctuation used in contractions such as don’t, va-t-il,\n",
    "or c’est are not separated from the words. Also, convert everything into lowercase in the\n",
    "expectation that this will reduce the number of distinct words in the vocabulary.  \n",
    "\n",
    "Normalization and tokenization can go a lot deeper, such as subword tokenization,\n",
    "stemming, and lemmatization. But to keep things simple, you do not do these in this project.  \n",
    "\n",
    "Starting from scratch, the code to normalize the text is below. You will use the Python\n",
    "module unicodedata to convert a Unicode string into NFKC normal form. Then you will use\n",
    "regular expression to add space around punctuation marks. Afterward, you will wrap the\n",
    "French sentences (i.e., the target language) with sentinels [start] and [end]. You will see the\n",
    "purpose of the sentinels in later lessons."
   ]
  },
  {
   "cell_type": "code",
   "execution_count": 6,
   "metadata": {},
   "outputs": [],
   "source": [
    "def normalize(line):\n",
    "    \"\"\"Normalize a line of text and split into two at the tab character.\"\"\" \n",
    "    line = unicodedata.normalize(\"NFKC\", line.strip().lower())\n",
    "    line = re.sub(r\"^([^ \\w])(?!\\s)\", r\"\\1 \", line)\n",
    "    line = re.sub(r\"(\\s[^ \\w])(?!\\s)\", r\"\\1 \", line)\n",
    "    line = re.sub(r\"(?!\\s)([^ \\w])$\", r\" \\1\", line)\n",
    "    line = re.sub(r\"(?!\\s)([^ \\w]\\s)\", r\" \\1\", line)\n",
    "    eng, fra = line.split(\"\\t\")\n",
    "    fra = \"[start] \" + fra + \" [end]\"\n",
    "    return eng, fra\n",
    "\n"
   ]
  },
  {
   "cell_type": "code",
   "execution_count": 7,
   "metadata": {},
   "outputs": [
    {
     "name": "stdout",
     "output_type": "stream",
     "text": [
      "(\"it's going to be very cold tonight .\", '[start] il va faire très froid ce soir . [end]')\n",
      "('i need to borrow your pen .', \"[start] il me faut t'emprunter ton stylo . [end]\")\n",
      "('everybody was stunned .', '[start] tout le monde a été abasourdi . [end]')\n",
      "('a picture is worth a thousand words .', '[start] une image vaut mille mots . [end]')\n",
      "('would you like a cup of coffee ?', '[start] voudrais-tu une tasse de café  ?  [end]')\n"
     ]
    }
   ],
   "source": [
    "# normalize each line and separate into English and French\n",
    "with open(text_file) as fp:\n",
    "    text_pairs = [normalize(line) for line in fp]\n",
    "\n",
    "# print some samples\n",
    "for _ in range(5):\n",
    "    print(random.choice(text_pairs))\n",
    "\n",
    "# export the text pairs to a pickle file\n",
    "with open(\"text_pairs.pickle\", \"wb\") as fp:\n",
    "    pickle.dump(text_pairs, fp)\n"
   ]
  },
  {
   "cell_type": "code",
   "execution_count": 9,
   "metadata": {},
   "outputs": [
    {
     "name": "stdout",
     "output_type": "stream",
     "text": [
      "Total English tokens: 14969\n",
      "Total French tokens: 29219\n",
      "Max English length: 51\n",
      "Max French length: 60\n",
      "167130 total pairs\n"
     ]
    }
   ],
   "source": [
    "# open file pairs from pickle file\n",
    "with open(\"text_pairs.pickle\", \"rb\") as fp:\n",
    "    text_pairs = pickle.load(fp)\n",
    "\n",
    "# count tokens\n",
    "eng_tokens, fra_tokens = set(), set()\n",
    "eng_maxlen, fra_maxlen = 0, 0\n",
    "for eng, fra in text_pairs:\n",
    "    eng_tok, fra_tok = eng.split(), fra.split()\n",
    "    eng_maxlen = max(eng_maxlen, len(eng_tok))\n",
    "    fra_maxlen = max(fra_maxlen, len(fra_tok))\n",
    "    eng_tokens.update(eng_tok)\n",
    "    fra_tokens.update(fra_tok)\n",
    "print(f\"Total English tokens: {len(eng_tokens)}\")\n",
    "print(f\"Total French tokens: {len(fra_tokens)}\")\n",
    "print(f\"Max English length: {eng_maxlen}\")\n",
    "print(f\"Max French length: {fra_maxlen}\")\n",
    "print(f\"{len(text_pairs)} total pairs\")"
   ]
  },
  {
   "attachments": {},
   "cell_type": "markdown",
   "metadata": {},
   "source": [
    "### It is worth visualising the data\n",
    "It is always worth visualising the data  to get more of a feel of what it looks like.  \n",
    "Thye longest set of tokens is 51 and 60 but how frequent is that?"
   ]
  },
  {
   "cell_type": "code",
   "execution_count": 51,
   "metadata": {},
   "outputs": [
    {
     "data": {
      "image/png": "[encoded data removed]",
      "text/plain": [
       "<Figure size 1200x1000 with 1 Axes>"
      ]
     },
     "metadata": {},
     "output_type": "display_data"
    }
   ],
   "source": [
    "# counting the lengths of the tokens\n",
    "# histogram of sentence length in tokens\n",
    "en_lengths = [len(eng.split()) for eng, _ in text_pairs]\n",
    "fr_lengths = [len(fra.split()) for _, fra in text_pairs]\n",
    "\n",
    "ALPHA=0.4\n",
    "fig, ax = plt.subplots(figsize=(12, 10))\n",
    "sns.histplot(en_lengths, bins=20, legend=True, alpha=ALPHA, color='red', log_scale=(False,True))\n",
    "sns.histplot(fr_lengths, bins=20, legend=True, alpha=ALPHA, color='blue', log_scale=(False,True))\n",
    "plt.legend(['English token lengths', 'French token lengths'])\n",
    "# plt.hist(en_lengths, label=\"en\", color=\"red\", alpha=0.33)\n",
    "# plt.hist(fr_lengths, label=\"fr\", color=\"blue\", alpha=0.33)\n",
    "# plt.yscale(\"log\")     # sentence length fits Benford\"s law\n",
    "plt.ylim(plt.ylim())  # make y-axis consistent for both plots\n",
    "plt.plot([max(en_lengths), max(en_lengths)], plt.ylim(), color=\"red\")\n",
    "plt.plot([max(fr_lengths), max(fr_lengths)], plt.ylim(), color=\"blue\")\n",
    "plt.title(\"Examples count vs Token length\")\n",
    "plt.show()"
   ]
  },
  {
   "attachments": {},
   "cell_type": "markdown",
   "metadata": {},
   "source": [
    "# Lesson 3\n",
    "Hi, in this lesson, you will learn to create a dataset object that helps training the transformer model.\n",
    "In the previous lesson, you cleaned up the sentences, but they are still text. Neural networks can handle only numbers. One way to convert the text into numbers is through vectorization. What this means is to transform the tokens from the text into an integer. Hence a sentence with n tokens (words) will become a vector of n integers.\n",
    "\n",
    "You can build your own vectorizer. Simply build a mapping table of each unique token to a unique integer. When it is used, you look up the token one by one in the table and return the integers in the form of a vector.\n",
    "\n",
    "In Keras, you have TextVectorization layer to save us the effort of building a vectorizer. It supports padding, i.e., integer 0 is reserved to mean \"empty.\" This is useful when you give a sentence of m < n tokens but want the vectorizer always to return a fixed length n vector.\n",
    "\n",
    "You will first split the sentence pair into training, validation, and testing sets as you need them for the model training. Then, create a TextVectorization layer and adapt it to the training set only (because you should not peek into the validation or testing dataset until the model training is completed)."
   ]
  },
  {
   "cell_type": "code",
   "execution_count": 57,
   "metadata": {},
   "outputs": [],
   "source": [
    "# Load normalized sentence pairs\n",
    "with open(\"text_pairs.pickle\", \"rb\") as fp:\n",
    "    text_pairs = pickle.load(fp)\n",
    "\n",
    "# train-test-val split of randomized sentence pairs\n",
    "random.shuffle(text_pairs)\n",
    "n_val = int(0.15*len(text_pairs))\n",
    "n_train = len(text_pairs) - 2*n_val\n",
    "train_pairs = text_pairs[:n_train]\n",
    "val_pairs = text_pairs[n_train:n_train+n_val]\n",
    "test_pairs = text_pairs[n_train+n_val:]"
   ]
  },
  {
   "attachments": {},
   "cell_type": "markdown",
   "metadata": {},
   "source": [
    "### More information\n",
    "\n",
    "Note that the parameter max_tokens to TextVectorization object can be omitted to let the vectorizer figure it out. But if you set them to a value smaller than the total vocabulary (such as this case), you limit the the vectorizer to learn only the more frequent words and make the rare words as out-of-vocabulary (OOV). This may be useful to skip the words of little value or with spelling mistakes. You also fix the output length of the vectorizer. We assumed that a sentence should have no more than 20 tokens in the above.\n",
    "\n",
    "The next step would be to make use of the vectorizer and create a TensorFlow Dataset object. This will be helpful in your later steps to train our model.\n",
    "\n",
    "More info can be found on the TensorFlow site:  \n",
    "https://www.tensorflow.org/api_docs/python/tf/keras/layers/TextVectorization"
   ]
  },
  {
   "cell_type": "code",
   "execution_count": 78,
   "metadata": {},
   "outputs": [],
   "source": [
    "# Parameter determined after analyzing the input data\n",
    "vocab_size_en = 10000\n",
    "vocab_size_fr = 20000\n",
    "seq_length = 20\n",
    "\n",
    "# Create vectorizer\n",
    "# Now that the vocab layer has been created, call `adapt` on the\n",
    "# text-only dataset to create the vocabulary. You don't have to batch,\n",
    "# but for large datasets this means we're not keeping spare copies of\n",
    "# the dataset.\n",
    "eng_vectorizer = TextVectorization(\n",
    "    max_tokens=vocab_size_en,\n",
    "    standardize=None,\n",
    "    split=\"whitespace\",\n",
    "    output_mode=\"int\",\n",
    "    output_sequence_length=seq_length,\n",
    ")\n",
    "fra_vectorizer = TextVectorization(\n",
    "    max_tokens=vocab_size_fr,\n",
    "    standardize=None,\n",
    "    split=\"whitespace\",\n",
    "    output_mode=\"int\",\n",
    "    output_sequence_length=seq_length + 1\n",
    ")\n"
   ]
  },
  {
   "cell_type": "code",
   "execution_count": 79,
   "metadata": {},
   "outputs": [],
   "source": [
    "# train the vectorization layer using training dataset\n",
    "train_eng_texts = [pair[0] for pair in train_pairs]\n",
    "train_fra_texts = [pair[1] for pair in train_pairs]\n",
    "eng_vectorizer.adapt(train_eng_texts)\n",
    "fra_vectorizer.adapt(train_fra_texts)"
   ]
  },
  {
   "cell_type": "code",
   "execution_count": 81,
   "metadata": {},
   "outputs": [],
   "source": [
    "# save for subsequent steps\n",
    "with open(\"vectorize.pickle\", \"wb\") as fp:\n",
    "    data = {\n",
    "        \"train\": train_pairs,\n",
    "        \"val\":   val_pairs,\n",
    "        \"test\":  test_pairs,\n",
    "        \"engvec_config\":  eng_vectorizer.get_config(),\n",
    "        \"engvec_weights\": eng_vectorizer.get_weights(),\n",
    "        \"fravec_config\":  fra_vectorizer.get_config(),\n",
    "        \"fravec_weights\": fra_vectorizer.get_weights(),\n",
    "    }\n",
    "    pickle.dump(data, fp)"
   ]
  },
  {
   "cell_type": "code",
   "execution_count": 84,
   "metadata": {},
   "outputs": [],
   "source": [
    "# load text data and vectorizer weights\n",
    "with open(\"vectorize.pickle\", \"rb\") as fp:\n",
    "    data = pickle.load(fp)\n",
    "\n",
    "# pull the data from the dictionary\n",
    "train_pairs = data[\"train\"]\n",
    "val_pairs = data[\"val\"]\n",
    "test_pairs = data[\"test\"]   # not used\n",
    "eng_vectorizer = TextVectorization.from_config(data[\"engvec_config\"])\n",
    "eng_vectorizer.set_weights(data[\"engvec_weights\"])\n",
    "fra_vectorizer = TextVectorization.from_config(data[\"fravec_config\"])\n",
    "fra_vectorizer.set_weights(data[\"fravec_weights\"])"
   ]
  },
  {
   "cell_type": "code",
   "execution_count": 85,
   "metadata": {},
   "outputs": [],
   "source": [
    "# set up Dataset object\n",
    "def format_dataset(eng, fra):\n",
    "    eng = eng_vectorizer(eng)\n",
    "    fra = fra_vectorizer(fra)\n",
    "    source = {\"encoder_inputs\": eng,\n",
    "              \"decoder_inputs\": fra[:, :-1]}\n",
    "    target = fra[:, 1:]\n",
    "    return (source, target)\n",
    "\n",
    "def make_dataset(pairs, batch_size=64):\n",
    "    # aggregate sentences using zip(*pairs)\n",
    "    eng_texts, fra_texts = zip(*pairs)\n",
    "    # convert them into list, and then create tensors\n",
    "    dataset = tf.data.Dataset.from_tensor_slices((list(eng_texts), list(fra_texts)))\n",
    "    return dataset.shuffle(2048) \\\n",
    "                  .batch(batch_size).map(format_dataset) \\\n",
    "                  .prefetch(16).cache()\n",
    "\n",
    "train_ds = make_dataset(train_pairs)\n",
    "val_ds = make_dataset(val_pairs)"
   ]
  },
  {
   "cell_type": "code",
   "execution_count": 91,
   "metadata": {},
   "outputs": [
    {
     "data": {
      "text/plain": [
       "<_TakeDataset element_spec=({'encoder_inputs': TensorSpec(shape=(None, 20), dtype=tf.int64, name=None), 'decoder_inputs': TensorSpec(shape=(None, 20), dtype=tf.int64, name=None)}, TensorSpec(shape=(None, 20), dtype=tf.int64, name=None))>"
      ]
     },
     "execution_count": 91,
     "metadata": {},
     "output_type": "execute_result"
    }
   ],
   "source": [
    "train_ds.take(10)"
   ]
  },
  {
   "cell_type": "code",
   "execution_count": 98,
   "metadata": {},
   "outputs": [
    {
     "name": "stdout",
     "output_type": "stream",
     "text": [
      "inputs[\"encoder_inputs\"].shape: (64, 20)\n",
      "inputs[\"encoder_inputs\"][0]: [ 12 140 208  11  74 106  59 459   2   0   0   0   0   0   0   0   0   0\n",
      "   0   0]\n",
      "inputs[\"decoder_inputs\"].shape: (64, 20)\n",
      "inputs[\"decoder_inputs\"][0]: [   2   15   11 1852   96   39  559   13  425   24  420    4    3    0\n",
      "    0    0    0    0    0    0]\n",
      "targets.shape: (64, 20)\n",
      "targets[0]: [  15   11 1852   96   39  559   13  425   24  420    4    3    0    0\n",
      "    0    0    0    0    0    0]\n"
     ]
    },
    {
     "name": "stderr",
     "output_type": "stream",
     "text": [
      "2023-04-19 20:29:32.615366: I tensorflow/core/common_runtime/executor.cc:1197] [/device:CPU:0] (DEBUG INFO) Executor start aborting (this does not indicate an error and you can ignore this message): INVALID_ARGUMENT: You must feed a value for placeholder tensor 'Placeholder/_18' with dtype int64\n",
      "\t [[{{node Placeholder/_18}}]]\n",
      "2023-04-19 20:29:32.615916: I tensorflow/core/common_runtime/executor.cc:1197] [/device:CPU:0] (DEBUG INFO) Executor start aborting (this does not indicate an error and you can ignore this message): INVALID_ARGUMENT: You must feed a value for placeholder tensor 'Placeholder/_14' with dtype int64\n",
      "\t [[{{node Placeholder/_14}}]]\n",
      "2023-04-19 20:29:32.653841: W tensorflow/core/kernels/data/cache_dataset_ops.cc:856] The calling iterator did not fully read the dataset being cached. In order to avoid unexpected truncation of the dataset, the partially cached contents of the dataset  will be discarded. This can happen if you have an input pipeline similar to `dataset.cache().take(k).repeat()`. You should use `dataset.take(k).cache().repeat()` instead.\n"
     ]
    }
   ],
   "source": [
    "# test the dataset\n",
    "for inputs, targets in train_ds.take(1):\n",
    "    print(f'inputs[\"encoder_inputs\"].shape: {inputs[\"encoder_inputs\"].shape}')\n",
    "    print(f'inputs[\"encoder_inputs\"][0]: {inputs[\"encoder_inputs\"][0]}')\n",
    "    print(f'inputs[\"decoder_inputs\"].shape: {inputs[\"decoder_inputs\"].shape}')\n",
    "    print(f'inputs[\"decoder_inputs\"][0]: {inputs[\"decoder_inputs\"][0]}')\n",
    "    print(f\"targets.shape: {targets.shape}\")\n",
    "    print(f\"targets[0]: {targets[0]}\")"
   ]
  }
 ],
 "metadata": {
  "kernelspec": {
   "display_name": "transformer",
   "language": "python",
   "name": "python3"
  },
  "language_info": {
   "codemirror_mode": {
    "name": "ipython",
    "version": 3
   },
   "file_extension": ".py",
   "mimetype": "text/x-python",
   "name": "python",
   "nbconvert_exporter": "python",
   "pygments_lexer": "ipython3",
   "version": "3.9.0"
  },
  "orig_nbformat": 4
 },
 "nbformat": 4,
 "nbformat_minor": 2
}
